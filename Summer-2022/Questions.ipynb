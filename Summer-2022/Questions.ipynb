{
 "cells": [
  {
   "cell_type": "code",
   "execution_count": 1,
   "metadata": {},
   "outputs": [],
   "source": [
    "import numpy as np\n",
    "import matplotlib.pyplot as plt\n",
    "#import scipy.fftpack as scfft\n",
    "\n",
    "plt.rcParams['figure.figsize'] = [8, 5]"
   ]
  },
  {
   "cell_type": "code",
   "execution_count": 18,
   "metadata": {},
   "outputs": [],
   "source": [
    "a = np.array([1,3,3,1,0,0,0,0])"
   ]
  },
  {
   "cell_type": "code",
   "execution_count": 19,
   "metadata": {},
   "outputs": [
    {
     "data": {
      "text/plain": [
       "array([ 8.        +0.j        ,  2.41421356-5.82842712j,\n",
       "       -2.        -2.j        , -0.41421356+0.17157288j,\n",
       "        0.        +0.j        ])"
      ]
     },
     "execution_count": 19,
     "metadata": {},
     "output_type": "execute_result"
    }
   ],
   "source": [
    "np.fft.rfft(a)"
   ]
  },
  {
   "cell_type": "markdown",
   "metadata": {},
   "source": [
    "Question: in this case, the DFT indeed gives an entry that is zero. However, I'm not sure why this is contingent upon the numbers of zeros, as shown below:"
   ]
  },
  {
   "cell_type": "code",
   "execution_count": 20,
   "metadata": {},
   "outputs": [],
   "source": [
    "b = np.array([1,3,3,1,0,0,0,0,0,0,0])"
   ]
  },
  {
   "cell_type": "code",
   "execution_count": 21,
   "metadata": {
    "scrolled": true
   },
   "outputs": [
    {
     "data": {
      "text/plain": [
       "array([ 8.        +0.j        ,  4.6276908 -5.34063988j,\n",
       "       -0.67783014-4.71441215j, -1.89000842-1.21463466j,\n",
       "       -0.55027318+0.16157479j, -0.00957906+0.02097521j])"
      ]
     },
     "execution_count": 21,
     "metadata": {},
     "output_type": "execute_result"
    }
   ],
   "source": [
    "np.fft.rfft(b)"
   ]
  },
  {
   "cell_type": "markdown",
   "metadata": {},
   "source": [
    "Plus, I'm not sure what it means by saying 'any sinewave that is odd across the first four entries'"
   ]
  },
  {
   "cell_type": "markdown",
   "metadata": {},
   "source": []
  },
  {
   "cell_type": "markdown",
   "metadata": {},
   "source": [
    "Question: how do I read the eigenvalue spectrum?"
   ]
  },
  {
   "cell_type": "code",
   "execution_count": null,
   "metadata": {},
   "outputs": [],
   "source": []
  },
  {
   "cell_type": "markdown",
   "metadata": {},
   "source": [
    "Question: the Wiener filtering that you mentioned is in the form $Sig(Sig + Noise)^{-1}$; however, when implementing it, how can we explicitly take the noise into account?"
   ]
  },
  {
   "cell_type": "code",
   "execution_count": null,
   "metadata": {},
   "outputs": [],
   "source": []
  },
  {
   "cell_type": "markdown",
   "metadata": {},
   "source": [
    "Question: you mentioned that due to the circulant approximation, we could use whatever eigenvalue filtering scheme. What exactly does that mean? There doesn't seem to be a lot of resources about this online."
   ]
  },
  {
   "cell_type": "code",
   "execution_count": null,
   "metadata": {},
   "outputs": [],
   "source": []
  },
  {
   "cell_type": "markdown",
   "metadata": {},
   "source": [
    "Question: just to make sure, what does quantisation mean in this context? I know that in the case of mapping continuous sets to discrete sets, the mapping would inherently result in a loss of information (like rounding errors). However, since all our operations are done in a discrete basis, from where would we introduce quantisation?\n",
    "\n",
    "I guess this is also related, but I see you mentioning 'quantizing the PFB to 4 bits', and I have also seen a lot of mentions of bit depths in the upchannelisation document. What does bits mean in this context?"
   ]
  },
  {
   "cell_type": "code",
   "execution_count": null,
   "metadata": {},
   "outputs": [],
   "source": []
  },
  {
   "cell_type": "markdown",
   "metadata": {},
   "source": [
    "**----The below are questions from the upchannelisation document----**"
   ]
  },
  {
   "cell_type": "code",
   "execution_count": null,
   "metadata": {},
   "outputs": [],
   "source": []
  },
  {
   "cell_type": "markdown",
   "metadata": {},
   "source": [
    "Question: what does it mean by 'coarse PFB'? Is it a PFB with a lower frequency resolution that what our upchannelisation would ideally give? In that case, did you simply mean that it's not possible to split one channel into more channels deterministically?"
   ]
  },
  {
   "cell_type": "code",
   "execution_count": null,
   "metadata": {},
   "outputs": [],
   "source": []
  },
  {
   "cell_type": "markdown",
   "metadata": {},
   "source": [
    "Question: What does 'MAD' stand in this context?"
   ]
  },
  {
   "cell_type": "code",
   "execution_count": null,
   "metadata": {},
   "outputs": [],
   "source": []
  },
  {
   "cell_type": "markdown",
   "metadata": {},
   "source": [
    "Question: is the matrix $B$ largely similar to the $FSW$ operation done? If so, what does the 'limited columns of $B$' available to us mean? How are we given the channels?"
   ]
  },
  {
   "cell_type": "code",
   "execution_count": null,
   "metadata": {},
   "outputs": [],
   "source": []
  },
  {
   "cell_type": "markdown",
   "metadata": {},
   "source": [
    "Question: from what I understand, $a^Tx$ yields a scalar, whilst the output of $B^Tx (+q)$ is a matrix. In this case, how is the residual calculated? Entry-wise on $B^Tx (+q)$?"
   ]
  },
  {
   "cell_type": "code",
   "execution_count": null,
   "metadata": {},
   "outputs": [],
   "source": []
  },
  {
   "cell_type": "markdown",
   "metadata": {},
   "source": [
    "Question: $N$ & $Q$ are the covariance matrices for what exactly? From your definition of $N_{ij} = <x_ix_j>$, are $x_i$ and $x_j$ already residuals? Or are they simply entries of the raw signal?\n",
    "\n",
    "In terms of $Q$, I know that $q$ is the noise introduced previously, but how do they correlate? How would we generate $Q$ in practice? Do we just simulate a (say Gaussian) noise?"
   ]
  },
  {
   "cell_type": "code",
   "execution_count": null,
   "metadata": {},
   "outputs": [],
   "source": []
  },
  {
   "cell_type": "markdown",
   "metadata": {},
   "source": [
    "Question: you mentioned that the composition of $CB^T$ would yield the upchannelised PFB (which makes sense). However, why would the FFT of this output give a boxcar? What does it mean by taking the FFT of the PFB gives the frequency response of each fine channel?"
   ]
  },
  {
   "cell_type": "code",
   "execution_count": null,
   "metadata": {},
   "outputs": [],
   "source": []
  }
 ],
 "metadata": {
  "kernelspec": {
   "display_name": "Python 3 (ipykernel)",
   "language": "python",
   "name": "python3"
  },
  "language_info": {
   "codemirror_mode": {
    "name": "ipython",
    "version": 3
   },
   "file_extension": ".py",
   "mimetype": "text/x-python",
   "name": "python",
   "nbconvert_exporter": "python",
   "pygments_lexer": "ipython3",
   "version": "3.9.12"
  }
 },
 "nbformat": 4,
 "nbformat_minor": 4
}
